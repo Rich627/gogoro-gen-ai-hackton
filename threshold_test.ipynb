{
 "cells": [
  {
   "cell_type": "code",
   "execution_count": 1,
   "metadata": {},
   "outputs": [],
   "source": [
    "from langchain_community.llms import Ollama\n",
    " \n",
    "llm = Ollama(model=\"llama2-chinese\", temperature=0.1)"
   ]
  },
  {
   "cell_type": "code",
   "execution_count": 2,
   "metadata": {},
   "outputs": [],
   "source": [
    "# !ollama pull llama2-chinese"
   ]
  },
  {
   "cell_type": "code",
   "execution_count": 3,
   "metadata": {},
   "outputs": [
    {
     "name": "stdout",
     "output_type": "stream",
     "text": [
      "page_content='Gogor o\\nS2\\n/\\n2\\n系\\n列 \\nSmar tscoot er\\n®\\n智\\n慧\\n電\\n動\\n機\\n車\\n使\\n用\\n手\\n冊\\n發\\n佈\\n日\\n期\\n：\\n2 0 2 3 . 1 2 . 1 1\\n適\\n用\\n車\\n款\\n：\\nG o g o r o\\n2\\nG o g o r o\\n2\\nP l u s\\nG o g o r o\\n2\\nD e l u x e\\nG o g o r o\\n2\\nD e l i g h t\\nG o g o r o\\n2\\nR u m b l e r\\nG o g o r o\\n2\\nP r e m i u m\\nS 2\\nS 2\\nC a f é\\nR a c e r\\nS 2\\nA d v e n t u r e\\ni Q\\nS y s t e m ®\\n版\\n本\\n：\\n6 . 8 . 2\\n以\\n後\\nG o g o r o ®\\nA p p\\n版\\n本\\n：\\n3 . 2\\n以\\n後\\n製\\n造\\n商\\n：\\n睿\\n能\\n創\\n意\\n股\\n份\\n有\\n限\\n公\\n司\\n地\\n址\\n：\\n桃\\n園\\n市\\n龜\\n山\\n區\\n頂\\n湖\\n路\\n3 3\\n號\\n電\\n話\\n：\\n0 3 - 2 7 3 - 0 9 0 0\\n客\\n服\\n中\\n心\\n電\\n話\\n：\\n0 8 0 0 - 3 6 5 - 9 9 6\\nC o p y r i g h t ©\\n2 0 2 3\\n睿\\n能\\n創\\n意\\n股\\n份\\n有\\n限\\n公\\n司\\n著\\n作\\n權\\n所\\n有\\n，\\n並\\n保\\n留\\n一\\n切\\n權\\n利。\\n本\\n車\\n主\\n手\\n冊\\n中\\n任\\n何\\n部\\n分\\n未\\n經\\n睿\\n能\\n創\\n意\\n股\\n份\\n有\\n限\\n公\\n司\\n事\\n前\\n書\\n面\\n同\\n意\\n，\\n不\\n得\\n以\\n任\\n何\\n形\\n式\\n轉\\n載、\\n複\\n製\\n或\\n拷\\n貝。' metadata={'source': '/Users/rich/Desktop/gen-ai-hackton/data/6nrhqkvp47vz7hnrzyl7oy7pjdmv.pdf', 'page': 0}\n"
     ]
    }
   ],
   "source": [
    "from langchain_community.document_loaders.pdf import PyPDFLoader\n",
    "\n",
    "loader = PyPDFLoader(\"/Users/rich/Desktop/gen-ai-hackton/data/6nrhqkvp47vz7hnrzyl7oy7pjdmv.pdf\")\n",
    "pages = loader.load_and_split()\n",
    "\n",
    "print(pages[0])"
   ]
  },
  {
   "cell_type": "code",
   "execution_count": 4,
   "metadata": {},
   "outputs": [],
   "source": [
    "from langchain_community.llms import Ollama\n",
    "from langchain_community.embeddings import OllamaEmbeddings\n",
    "from langchain_community.vectorstores import FAISS\n",
    "from langchain_core.prompts import ChatPromptTemplate\n",
    "from langchain_text_splitters import RecursiveCharacterTextSplitter\n",
    "\n",
    "\n",
    "\n",
    "## Vector store things\n",
    "embeddings = OllamaEmbeddings(model=\"all-minilm\")\n",
    "text_splitter = RecursiveCharacterTextSplitter()\n",
    "split_documents = text_splitter.split_documents(pages)\n",
    "vector_store = FAISS.from_documents(split_documents, embeddings)"
   ]
  },
  {
   "cell_type": "code",
   "execution_count": 7,
   "metadata": {},
   "outputs": [
    {
     "name": "stderr",
     "output_type": "stream",
     "text": [
      "/Users/rich/Desktop/gen-ai-hackton/.venv/lib/python3.11/site-packages/langchain_core/vectorstores.py:330: UserWarning: Relevance scores must be between 0 and 1, got [(Document(page_content='3.1.4\\n開\\n啟\\n座\\n墊\\n下\\n置\\n物\\n箱\\n●\\n2\\n/\\n3\\n/\\nV I V A\\nM I X\\n/\\nV I V A\\nX L\\n系\\n列\\n：\\n把\\n鑰\\n匙\\n插\\n入\\n主\\n開\\n關\\n鎖\\n孔\\n內\\n，\\n由\\n「\\nO F F\\n」\\n位\\n置\\n或\\n「\\nL O C K\\n」\\n位\\n置\\n，\\n逆\\n時\\n鐘\\n旋\\n轉\\n鑰\\n匙\\n至\\n「座\\n墊\\n開\\n啟」\\n位\\n置\\n，\\n即\\n可\\n開\\n啟\\n置\\n物\\n箱。\\n●\\nV I V A\\n系\\n列\\n：\\n把\\n鑰\\n匙\\n插\\n入\\n車\\n身\\n左\\n後\\n方\\n座\\n墊\\n開\\n關\\n鎖\\n孔\\n內\\n，\\n旋\\n轉\\n鑰\\n匙\\n至\\n「座\\n墊\\n開\\n啟」\\n位\\n置\\n，\\n即\\n可\\n開\\n啟\\n置\\n物\\n箱。\\n請\\n隨\\n時\\n關\\n閉\\n座\\n墊\\n下\\n置\\n物\\n箱\\n，\\n以\\n免\\n因\\n長\\n時\\n間\\n未\\n關\\n閉\\n座\\n墊\\n，\\n導\\n致\\nG o g o r o\\nN e t w o r k ®\\n智\\n慧\\n電\\n池\\n無\\n法\\n對\\n備\\n用\\n電\\n池\\n充\\n電\\n，\\n進\\n而\\n導\\n致\\n備\\n用\\n電\\n池\\n過\\n度\\n放\\n電\\n而\\n損\\n壞。\\n貴\\n重\\n物\\n品\\n請\\n隨\\n身\\n攜\\n帶\\n，\\n當\\n您\\n結\\n束\\n騎\\n乘\\n並\\n離\\n開\\n時\\n，\\n勿\\n將\\n其\\n放\\n置\\n於\\n置\\n物\\n箱\\n內。\\n每\\n台\\nS m a r t s c o o t e r ®\\n智\\n慧\\n電\\n動\\n機\\n車\\n出\\n廠\\n時\\n均\\n配\\n有\\n二\\n把\\n「鑰\\n匙」\\n，\\n請\\n將\\n不\\n常\\n用\\n的\\n另\\n一\\n把\\n放\\n置\\n於\\n您\\n可\\n以\\n取\\n得\\n的\\n地\\n方。\\n若\\n您\\n不\\n慎\\n將\\n鑰\\n匙、\\n手\\n機\\n鎖\\n在\\n座\\n墊\\n下\\n置\\n物\\n箱\\n內\\n，\\n或\\n鑰\\n匙\\n不\\n慎\\n遺\\n失\\n或\\n損\\n壞\\n，\\n即\\n可\\n以\\n另\\n一\\n把\\n開\\n啟。\\n若\\n您\\n不\\n慎\\n將\\n鑰\\n匙、\\n手\\n機\\n鎖\\n在\\n座\\n墊\\n下\\n置\\n物\\n箱\\n內\\n，\\n或\\n鑰\\n匙\\n不\\n慎\\n遺\\n失\\n或\\n損\\n壞\\n，\\n且\\n無\\n法\\n取\\n得\\n另\\n一\\n把\\n鑰\\n匙\\n，\\n請\\n連\\n絡\\nG o g o r o\\n客\\n服\\n中\\n心\\n拖\\n吊\\n至\\n就\\n近\\n之\\n服\\n務\\n中\\n心\\n，\\n由\\nG o g o r o\\n授\\n權\\n之\\n技\\n術\\n人\\n員\\n為\\n您\\n處\\n理。\\n3 2', metadata={'source': '/Users/rich/Desktop/gen-ai-hackton/data/6nrhqkvp47vz7hnrzyl7oy7pjdmv.pdf', 'page': 31}), -24.01674813968557), (Document(page_content='1.3.2\\n開\\n關\\n機\\n鑰\\n匙\\nS m a r t s c o o t e r ®\\n智\\n慧\\n電\\n動\\n機\\n車\\n可\\n以\\n分\\n為\\n「機\\n械\\n式\\n鑰\\n匙\\n車\\n種」\\n及\\n「無\\n線\\n鑰\\n匙\\n車\\n種」\\n二\\n大\\n類。\\n依\\n車\\n種\\n不\\n同\\n，\\n您\\n的\\nS m a r t s c o o t e r ®\\n智\\n慧\\n電\\n動\\n機\\n車\\n會\\n配\\n備\\n不\\n同\\n型\\n式\\n的\\n「鑰\\n匙」\\n，\\n以\\n便\\n開\\n機\\n解\\n鎖、\\n關\\n機\\n上\\n鎖\\n及\\n開\\n啟\\n座\\n墊\\n下\\n置\\n物\\n箱。\\n具\\n有\\n「鑰\\n匙」\\n功\\n能\\n的\\n設\\n備\\n，\\n除\\n了\\n傳\\n統\\n認\\n知\\n的\\n機\\n械\\n式\\n鑰\\n匙\\n之\\n外\\n，\\n尚\\n包\\n含\\n「\\ni Q\\nS y s t e m ®\\n無\\n線\\n智\\n慧\\n鑰\\n匙」、\\n「\\ni Q\\nS y s t e m ®\\n智\\n慧\\n鑰\\n匙\\n卡」\\n以\\n及\\n「智\\n慧\\n型\\n手\\n機\\n搭\\n配\\nG o g o r o ®\\nA p p\\n」\\n等\\n更\\n先\\n進、\\n防\\n盜\\n性\\n更\\n佳\\n且\\n更\\n便\\n利\\n的\\n方\\n式。\\n機\\n械\\n式\\n鑰\\n匙\\n車\\n種\\n●\\n僅\\n可\\n使\\n用\\n傳\\n統\\n的\\n機\\n械\\n式\\n鑰\\n匙\\n，\\n無\\n法\\n使\\n用\\n無\\n線、\\n非\\n接\\n觸\\n式\\n的\\n開、\\n關\\n機\\n方\\n式。\\n無\\n線\\n鑰\\n匙\\n車\\n種\\n●\\n可\\n以\\n使\\n用\\n包\\n括\\ni Q\\nS y s t e m ®\\n無\\n線\\n智\\n慧\\n鑰\\n匙\\n（圓\\n形\\n按\\n鍵\\n遙\\n控\\n器）、\\ni Q\\nS y s t e m ®\\n智\\n慧\\n鑰\\n匙\\n卡\\n（卡\\n片\\n式）、\\nS m a r t\\nC o i n\\n（磁\\n扣\\n式）、\\nG o g o r o ®\\nA p p\\n、\\nA p p l e\\n錢\\n包\\n機\\n車\\n鑰\\n匙\\n等\\n非\\n接\\n觸\\n式\\n的\\n開、\\n關\\n機\\n方\\n式。\\n（依\\n車\\n種\\n年\\n式\\n可\\n能\\n略\\n有\\n差\\n異）\\nG o g o r o\\nS 1\\n/\\n1\\n/\\nS 2\\n/\\n2\\n系\\n列\\n自\\n2 0 2 0\\n年\\n式\\n起\\n開\\n始\\n支\\n援\\ni Q\\nS y s t e m ®\\n智\\n慧\\n鑰\\n匙\\n卡\\n（卡\\n片\\n式）\\n及 \\nS m a r t\\nC o i n\\n（磁\\n扣\\n式）。\\n所\\n有\\n無\\n線\\n鑰\\n匙\\n車\\n種\\n不\\n分\\n年\\n式\\n，\\n均\\n可\\n使\\n用\\ni Q\\nS y s t e m ®\\n無\\n線\\n智\\n慧\\n鑰\\n匙\\n（圓\\n形\\n按\\n鍵\\n式）。\\nA p p l e\\n錢\\n包\\n機\\n車\\n鑰\\n匙\\n適\\n用\\n車\\n款\\n：\\n支\\n援\\n2 0 1 9\\n年\\n後\\n生\\n產、\\n且\\n可\\n以\\ni Q\\nS y s t e m ®\\n智\\n慧\\n鑰\\n匙\\n卡\\n解\\n鎖\\n功\\n能\\n車\\n系\\n（\\nG o g o r o\\n1 ,\\nG o g o r o\\nS 1\\n&\\nG o g o r o\\nV I V A\\n除\\n外）。\\n機\\n械\\n式\\n鑰\\n匙\\n車\\n種\\n雖\\n然\\n不\\n支\\n援\\n用\\nG o g o r o ®\\nA p p\\n進\\n行\\n開、\\n關\\n機\\n及\\n開\\n啟\\n座\\n墊\\n，\\n但\\n仍\\n可\\n使\\n用\\nG o g o r o ® \\nA p p\\n的\\n其\\n他\\n便\\n利\\n功\\n能\\n，\\n享\\n有\\n與\\n時\\n俱\\n進\\n的\\n智\\n慧\\n服\\n務。\\n每\\n台\\nS m a r t s c o o t e r ®\\n智\\n慧\\n電\\n動\\n機\\n車\\n均\\n配\\n有\\n二\\n把\\n「鑰\\n匙」\\n（可\\n能\\n是\\n遙\\n控\\n器、\\n卡\\n片\\n或\\n機\\n械\\n式\\n鑰\\n題）\\n，\\n請\\n將\\n不\\n常\\n用\\n的\\n另\\n一\\n把\\n放\\n置\\n於\\n您\\n可\\n以\\n取\\n得\\n的\\n地\\n方。\\n若\\n您\\n不\\n慎\\n將\\n鑰\\n匙、\\n手\\n機\\n鎖\\n在\\n座\\n墊\\n下\\n置\\n物\\n箱\\n內\\n，\\n或\\n鑰\\n匙\\n不\\n慎\\n遺\\n失\\n或\\n損\\n壞\\n，\\n即\\n可\\n以\\n另\\n一\\n把\\n開\\n啟。\\n若\\n您\\n不\\n慎\\n將\\n鑰\\n匙、\\n手\\n機\\n鎖\\n在\\n座\\n墊\\n下\\n置\\n物\\n箱\\n內\\n，\\n或\\n鑰\\n匙\\n不\\n慎\\n遺\\n失\\n或\\n損\\n壞\\n，\\n且\\n無\\n法\\n取\\n得\\n另\\n一\\n把\\n鑰\\n匙\\n，\\n請\\n連\\n絡\\nG o g o r o\\n客\\n服\\n中\\n心\\n拖\\n吊\\n至\\n就\\n近\\n之\\n服\\n務\\n中\\n心\\n，\\n由\\nG o g o r o\\n授\\n權\\n之\\n技\\n術\\n人\\n員\\n為\\n您\\n處\\n理。\\n若\\n您\\n的\\nS m a r t s c o o t e r ®\\n智\\n慧\\n電\\n動\\n機\\n車\\n出\\n廠\\n標\\n配\\n為\\ni Q\\nS y s t e m ®\\n智\\n慧\\n鑰\\n匙\\n卡\\n（卡\\n片\\n式）\\n，\\n您\\n也\\n可\\n加\\n購 \\ni Q\\nS y s t e m ®\\n無\\n線\\n智\\n慧\\n鑰\\n匙\\n（圓\\n形\\n按\\n鍵\\n式）。\\n請\\n洽\\nG o g o r o\\n服\\n務\\n中\\n心。\\n9', metadata={'source': '/Users/rich/Desktop/gen-ai-hackton/data/6nrhqkvp47vz7hnrzyl7oy7pjdmv.pdf', 'page': 8}), -24.846281737727413), (Document(page_content='1.4\\nGogoro\\nNetwork®\\n智\\n慧\\n電\\n池\\n簡\\n介\\nG o g o r o\\nN e t w o r k ®\\n智\\n慧\\n電\\n池\\n是\\nS m a r t s c o o t e r ®\\n智\\n慧\\n電\\n動\\n機\\n車\\n的\\n動\\n力\\n來\\n源\\n，\\n也\\n是\\ni Q\\nS y s t e m ®\\n智\\n慧\\n系\\n統\\n的\\n重\\n要\\n組\\n成。\\n它\\n具\\n有\\n以\\n下\\n特\\n色\\n：\\n●\\n超\\n高\\n功\\n率\\n密\\n度\\n：\\n單\\n顆\\n重\\n量\\n大\\n約\\n僅\\n9\\n公\\n斤\\n，\\n卻\\n能\\n提\\n供\\n4\\nk W\\n以\\n上\\n的\\n功\\n率\\n，\\n2\\n顆\\n則\\n能\\n能\\n達\\n到\\n8\\nk W\\n以\\n上\\n，\\n充\\n分\\n發\\n揮\\nS m a r t s c o o t e r ®\\n智\\n慧\\n電\\n動\\n機\\n車\\n的\\n動\\n力\\n性\\n能。\\n●\\n多\\n重\\n安\\n全\\n防\\n護\\n：\\n先\\n進\\n的\\nB M S\\n電\\n池\\n管\\n理\\n及\\n系\\n統\\n堅\\n固\\n的\\n物\\n理\\n防\\n護\\n，\\n讓\\n它\\n在\\n儲\\n存\\n強\\n大\\n能\\n量\\n的\\n同\\n時\\n卻\\n又\\n非\\n常\\n安\\n全。\\n●\\n智\\n慧\\n資\\n料\\n保\\n全\\n：\\n能\\n夠\\n記\\n錄\\n行\\n車\\n資\\n料、\\n充\\n放\\n電\\n狀\\n況、\\n系\\n統\\n健\\n康\\n狀\\n態\\n等\\n，\\n透\\n過\\nG o S t a t i o n ®\\n電\\n池\\n交\\n換\\n站\\n回\\n傳\\n至\\n雲\\n端\\n主\\n機\\n，\\n便\\n於\\n進\\n行\\n車\\n況\\n檢\\n查\\n和\\n維\\n護。\\n充\\n電\\n和\\n放\\n電\\n也\\n需\\n經\\n嚴\\n密\\n的\\n認\\n証\\n，\\n防\\n止\\n車\\n子\\n與\\n電\\n池\\n的\\n竊\\n盜\\n，\\n更\\n不\\n會\\n有\\n仿\\n冒\\n山\\n寨\\n電\\n池\\n的\\n問\\n題。\\n對\\n於\\nS m a r t s c o o t e r ®\\n智\\n慧\\n電\\n動\\n機\\n車\\n的\\n車\\n主\\n來\\n說\\n，\\n只\\n要\\n在\\n需\\n要\\n補\\n充\\n電\\n力\\n時\\n，\\n就\\n近\\n至\\nG o S t a t i o n ®\\n電\\n池\\n交\\n換\\n站\\n交\\n換\\n電\\n池\\n，\\n只\\n需\\n短\\n短\\n數\\n秒\\n，\\n即\\n換\\n即\\n行\\n，\\n比\\n傳\\n統\\n機\\n車\\n加\\n油\\n的\\n速\\n度\\n還\\n快。\\n同\\n時\\n，\\n每\\n當\\n有\\ni Q\\nS y s t e m ®\\n版\\n本\\n更\\n新\\n時\\n，\\n也\\n能\\n利\\n用\\n交\\n換\\n的\\n電\\n池\\n，\\n將\\n新\\n程\\n式\\n傳\\n送\\n到\\n車\\n上\\n，\\n讓\\n您\\n的\\nS m a r t s c o o t e r ®\\n智\\n慧\\n電\\n動\\n機\\n車\\n時\\n時\\n保\\n有\\n最\\n新\\n功\\n能\\n，\\n愈\\n騎\\n愈\\n新。\\nG o g o r o\\nN e t w o r k ®\\n智\\n慧\\n電\\n池\\n具\\n有\\n極\\n高\\n的\\n電\\n能\\n，\\n不\\n當\\n的\\n操\\n作\\n有\\n可\\n能\\n引\\n起\\n火\\n災\\n或\\n電\\n擊\\n等\\n危\\n險。\\n為\\n了\\n保\\n障\\n人\\n員\\n安\\n全\\n，\\n使\\n用、\\n保\\n存\\n或\\n更\\n換\\n電\\n池\\n時\\n，\\n應\\n隨\\n時\\n遵\\n守\\nG o g o r o\\nN e t w o r k ®\\n官\\n方\\n指\\n示\\n，\\n在\\n使\\n用\\n電\\n池\\n時\\n請\\n特\\n別\\n注\\n意\\n以\\n下\\n事\\n項\\n：\\n●\\n嚴\\n禁\\n將\\n電\\n池\\n使\\n用\\n於\\n非\\nG o g o r o\\nN e t w o r k ®\\n官\\n方\\n所\\n認\\n可\\n之\\n用\\n途。\\n●\\n電\\n池\\n每\\n顆\\n重\\n量\\n在\\n9\\nk g\\n以\\n上\\n，\\n請\\n小\\n心\\n拿\\n取\\n及\\n放\\n置。\\n●\\n電\\n池\\n在\\n使\\n用\\n後\\n可\\n能\\n會\\n有\\n些\\n微\\n發\\n熱\\n狀\\n況\\n，\\n更\\n換\\n電\\n池\\n操\\n作\\n時\\n請\\n加\\n以\\n注\\n意。\\n●\\n請\\n保\\n持\\n全\\n向\\n電\\n池\\n連\\n接\\n埠\\n潔\\n淨\\n無\\n異\\n物\\n，\\n嚴\\n禁\\n使\\n用\\n金\\n屬\\n物\\n接\\n觸\\n或\\n短\\n路\\n全\\n向\\n電\\n池\\n連\\n接\\n埠。\\n●\\n嚴\\n禁\\n將\\n電\\n池\\n投\\n入\\n火\\n中、\\n加\\n熱、\\n浸\\n水、\\n摔\\n落\\n或\\n敲\\n擊\\n，\\n及\\n任\\n何\\n試\\n圖\\n拆\\n解\\n或\\n破\\n壞\\n之\\n行\\n為。\\n●\\n嚴\\n禁\\n自\\n行\\n拆\\n卸\\n或\\n改\\n變\\n電\\n池\\n外\\n型、\\n結\\n構。\\n●\\n嚴\\n禁\\n使\\n用\\n非\\nG o g o r o\\n官\\n方\\n所\\n認\\n可\\n之\\n方\\n式\\n，\\n自\\n行\\n對\\n電\\n池\\n充\\n放\\n電。\\n●\\n嚴\\n禁\\n使\\n用\\n任\\n何\\n溶\\n劑\\n或\\n化\\n學\\n藥\\n劑\\n於\\n電\\n池。\\n●\\n電\\n池\\n若\\n有\\n任\\n何\\n異\\n常\\n（如\\n漏\\n液、\\n損\\n毀、\\n變\\n形\\n等）\\n，\\n請\\n立\\n即\\n停\\n止\\n使\\n用\\n電\\n池、\\nS m a r t s c o o t e r ®\\n智\\n慧\\n電\\n動\\n機\\n車\\n，\\n將\\nS m a r t s c o o t e r ®\\n智\\n慧\\n電\\n動\\n機\\n車\\n馬\\n達\\n關\\n閉\\n及\\n關\\n閉\\n系\\n統\\n電\\n源\\n，\\n並\\n聯\\n絡\\nG o g o r o \\n0 8 0 0\\n客\\n服\\n中\\n心\\n（\\n0 8 0 0 - 3 6 5 - 9 9 6\\n）\\n協\\n助\\n處\\n理。\\n1 7', metadata={'source': '/Users/rich/Desktop/gen-ai-hackton/data/6nrhqkvp47vz7hnrzyl7oy7pjdmv.pdf', 'page': 16}), -24.851811404252043), (Document(page_content='目\\n錄\\n1.\\n在\\n您\\n上\\n路\\n之\\n前\\n2\\n1 . 1\\n如\\n何\\n使\\n用\\n本\\n手\\n冊\\n3\\n1 . 2\\n安\\n全\\n提\\n醒\\n3\\n1 . 2 . 1\\n每\\n次\\n騎\\n乘\\n前\\n應\\n檢\\n查\\n項\\n目\\n4\\n1 . 3\\nG o g o r o\\nS m a r t s c o o t e r ®\\n簡\\n介\\n5\\n1 . 3 . 1\\n操\\n作\\n流\\n程\\n概\\n述\\n6\\n1 . 3 . 2\\n開\\n關\\n機\\n鑰\\n匙\\n6\\n1 . 3 . 2 . 1\\n機\\n械\\n式\\n鑰\\n匙\\n7\\n1 . 3 . 2 . 2\\ni Q\\nS y s t e m ®\\n無\\n線\\n智\\n慧\\n鑰\\n匙\\n8\\n1 . 3 . 2 . 3\\ni Q\\nS y s t e m ®\\n智\\n慧\\n鑰\\n匙\\n卡\\n9\\n1 . 3 . 2 . 4\\nG o g o r o\\nS m a r t\\nC o i n\\n1 1\\n1 . 3 . 2 . 5\\n以\\n手\\n機\\n作\\n為\\n鑰\\n匙\\n1 2\\n1 . 3 . 3\\n啟\\n動\\n及\\n關\\n閉\\n馬\\n達\\n1 4\\n1 . 3 . 3 . 1\\n啟\\n動\\n馬\\n達\\n1 4\\n1 . 3 . 3 . 2\\n關\\n閉\\n馬\\n達\\n1 4\\n1 . 4\\nG o g o r o\\nN e t w o r k ®\\n智\\n慧\\n電\\n池\\n簡\\n介\\n1 4\\n1 . 5\\nG o S t a t i o n ®\\n電\\n池\\n交\\n換\\n站\\n簡\\n介\\n1 6\\n1 . 6\\nG o g o r o ®\\nA p p\\n簡\\n介\\n1 7\\n1 . 7\\ni Q\\nS y s t e m ®\\n簡\\n介\\n1 8\\n2.\\n認\\n識\\n您\\n的\\nSmartscooter®\\n智\\n慧\\n電\\n動\\n機\\n車\\n19\\n2 . 1\\nG o g o r o\\nS 2\\n/\\n2\\n系\\n列\\n各\\n部\\n位\\n名\\n稱\\n2 0\\n2 . 2\\n左\\n把\\n手\\n2 1\\n2 . 3\\n右\\n把\\n手\\n2 2\\n2 . 4\\n儀\\n表\\n板\\n2 4\\n3.\\n準\\n備\\n上\\n路\\n27\\n3 . 1\\n機\\n械\\n式\\n鑰\\n匙\\n車\\n種\\n2 7\\n3 . 1 . 1\\n開\\n啟\\n系\\n統\\n電\\n源\\n並\\n解\\n鎖\\n龍\\n頭\\n1\\n3 . 1 . 2\\n關\\n閉\\n系\\n統\\n電\\n源\\n並\\n上\\n鎖\\n龍\\n頭\\n2 8\\n3 . 1 . 3\\n雙\\n重\\n防\\n盜\\n鎖\\n2 8\\n3 . 1 . 4\\n開\\n啟\\n座\\n墊\\n下\\n置\\n物\\n箱\\n2 9\\n3 . 1 . 5\\n休\\n眠\\n模\\n式\\n3 0\\n3 . 2\\n無\\n線\\n鑰\\n匙\\n車\\n種\\n3 1\\n3 . 2 . 1\\ni Q\\nS y s t e m ®\\n無\\n線\\n智\\n慧\\n鑰\\n匙\\n3 2\\n3 . 2 . 1 . 1\\n開\\n啟\\n系\\n統\\n電\\n源\\n並\\n解\\n鎖\\n龍\\n頭\\n3 3\\n3 . 2 . 1 . 2\\n關\\n閉\\n系\\n統\\n電\\n源\\n及\\n上\\n鎖\\n龍\\n頭\\n3 3\\n3 . 2 . 1 . 3\\n開\\n啟\\n座\\n墊\\n下\\n置\\n物\\n箱\\n3 3\\n3 . 2 . 2\\ni Q\\nS y s t e m ®\\n智\\n慧\\n鑰\\n匙\\n卡\\n3 3\\n3 . 2 . 2 . 1\\ni Q\\nS y s t e m ®\\n智\\n慧\\n鑰\\n匙\\n卡\\n感\\n應\\n器\\n位\\n置\\n3 4\\n3 . 2 . 2 . 2\\n開\\n啟\\n系\\n統\\n電\\n源\\n並\\n解\\n鎖\\n龍\\n頭\\n3 5\\n3 . 2 . 2 . 3\\n關\\n閉\\n系\\n統\\n電\\n源\\n及\\n上\\n鎖\\n龍\\n頭\\n3 6\\n3 . 2 . 2 . 4\\n開\\n啟\\n座\\n墊\\n下\\n置\\n物\\n箱\\n3 6\\n3 . 2 . 3\\nG o g o r o\\nS m a r t\\nC o i n\\n3 6\\n3 . 2 . 4\\nA p p l e\\n錢\\n包\\n機\\n車\\n鑰\\n匙\\n3 6\\n3 . 2 . 5\\n手\\n機\\n做\\n為\\n遙\\n控\\n器\\n時\\n3 8\\n3 . 2 . 5 . 1\\n開\\n啟\\n系\\n統\\n電\\n源\\n並\\n解\\n鎖\\n龍\\n頭\\n3 9\\n3 . 2 . 5 . 2\\n關\\n閉\\n系\\n統\\n電\\n源\\n及\\n上\\n鎖\\n龍\\n頭\\n3 9\\n3 . 2 . 5 . 3\\n雙\\n重\\n防\\n盜\\n鎖\\n3 9\\n3 . 2 . 5 . 4\\n開\\n啟\\n座\\n墊\\n下\\n置\\n物\\n箱\\n4 0\\n3 . 2 . 6\\n手\\n機\\n做\\n為\\n免\\n鑰\\n匙\\n智\\n慧\\n感\\n應\\n器\\n時\\n（智\\n慧\\n感\\n應\\n解\\n鎖）\\n4 0\\n3 . 2 . 6 . 1\\n開\\n啟\\n系\\n統\\n電\\n源\\n並\\n解\\n鎖\\n龍\\n頭\\n4 1\\n3 . 2 . 6 . 2\\n關\\n閉\\n系\\n統\\n電\\n源\\n4 1\\n2', metadata={'source': '/Users/rich/Desktop/gen-ai-hackton/data/6nrhqkvp47vz7hnrzyl7oy7pjdmv.pdf', 'page': 1}), -24.970006003167263)]\n",
      "  warnings.warn(\n",
      "/Users/rich/Desktop/gen-ai-hackton/.venv/lib/python3.11/site-packages/langchain_core/vectorstores.py:342: UserWarning: No relevant docs were retrieved using the relevance score threshold 0.6\n",
      "  warnings.warn(\n"
     ]
    },
    {
     "name": "stdout",
     "output_type": "stream",
     "text": [
      "{'input': '川普是誰', 'context': [], 'answer': '\\n川普是美国前总统唐纳德·川普的名字。他于2017年1月20日就任第45任美国总统，并在2020年1月20日结束了他的第一届任期。\\n'}\n"
     ]
    }
   ],
   "source": [
    "from langchain.vectorstores import FAISS\n",
    "from langchain.chains import create_retrieval_chain\n",
    "from langchain.chains.combine_documents import create_stuff_documents_chain\n",
    "from langchain_core.prompts import ChatPromptTemplate\n",
    "\n",
    "\n",
    "threshold = 0.6\n",
    "retriever = vector_store.as_retriever(search_type=\"similarity_score_threshold\", search_kwargs={\"score_threshold\": threshold})\n",
    "\n",
    "system_prompt = (\n",
    "    \"Use the given context to answer the question. \"\n",
    "    \"If you don't know the answer, say you don't know. \"\n",
    "    \"Use three sentence maximum and keep the answer concise. \"\n",
    "    \"Context: {context}\"\n",
    ")\n",
    "prompt = ChatPromptTemplate.from_messages(\n",
    "    [\n",
    "        (\"system\", system_prompt),\n",
    "        (\"human\", \"{input}\"),\n",
    "    ]\n",
    ")\n",
    "question_answer_chain = create_stuff_documents_chain(llm, prompt)\n",
    "chain = create_retrieval_chain(retriever, question_answer_chain)\n",
    "\n",
    "query = \"川普是誰\"\n",
    "result = chain.invoke({\"input\": query})\n",
    "print(result)"
   ]
  },
  {
   "cell_type": "code",
   "execution_count": 8,
   "metadata": {},
   "outputs": [
    {
     "name": "stderr",
     "output_type": "stream",
     "text": [
      "/Users/rich/Desktop/gen-ai-hackton/.venv/lib/python3.11/site-packages/langchain_core/vectorstores.py:330: UserWarning: Relevance scores must be between 0 and 1, got [(Document(page_content='3.1.4\\n開\\n啟\\n座\\n墊\\n下\\n置\\n物\\n箱\\n●\\n2\\n/\\n3\\n/\\nV I V A\\nM I X\\n/\\nV I V A\\nX L\\n系\\n列\\n：\\n把\\n鑰\\n匙\\n插\\n入\\n主\\n開\\n關\\n鎖\\n孔\\n內\\n，\\n由\\n「\\nO F F\\n」\\n位\\n置\\n或\\n「\\nL O C K\\n」\\n位\\n置\\n，\\n逆\\n時\\n鐘\\n旋\\n轉\\n鑰\\n匙\\n至\\n「座\\n墊\\n開\\n啟」\\n位\\n置\\n，\\n即\\n可\\n開\\n啟\\n置\\n物\\n箱。\\n●\\nV I V A\\n系\\n列\\n：\\n把\\n鑰\\n匙\\n插\\n入\\n車\\n身\\n左\\n後\\n方\\n座\\n墊\\n開\\n關\\n鎖\\n孔\\n內\\n，\\n旋\\n轉\\n鑰\\n匙\\n至\\n「座\\n墊\\n開\\n啟」\\n位\\n置\\n，\\n即\\n可\\n開\\n啟\\n置\\n物\\n箱。\\n請\\n隨\\n時\\n關\\n閉\\n座\\n墊\\n下\\n置\\n物\\n箱\\n，\\n以\\n免\\n因\\n長\\n時\\n間\\n未\\n關\\n閉\\n座\\n墊\\n，\\n導\\n致\\nG o g o r o\\nN e t w o r k ®\\n智\\n慧\\n電\\n池\\n無\\n法\\n對\\n備\\n用\\n電\\n池\\n充\\n電\\n，\\n進\\n而\\n導\\n致\\n備\\n用\\n電\\n池\\n過\\n度\\n放\\n電\\n而\\n損\\n壞。\\n貴\\n重\\n物\\n品\\n請\\n隨\\n身\\n攜\\n帶\\n，\\n當\\n您\\n結\\n束\\n騎\\n乘\\n並\\n離\\n開\\n時\\n，\\n勿\\n將\\n其\\n放\\n置\\n於\\n置\\n物\\n箱\\n內。\\n每\\n台\\nS m a r t s c o o t e r ®\\n智\\n慧\\n電\\n動\\n機\\n車\\n出\\n廠\\n時\\n均\\n配\\n有\\n二\\n把\\n「鑰\\n匙」\\n，\\n請\\n將\\n不\\n常\\n用\\n的\\n另\\n一\\n把\\n放\\n置\\n於\\n您\\n可\\n以\\n取\\n得\\n的\\n地\\n方。\\n若\\n您\\n不\\n慎\\n將\\n鑰\\n匙、\\n手\\n機\\n鎖\\n在\\n座\\n墊\\n下\\n置\\n物\\n箱\\n內\\n，\\n或\\n鑰\\n匙\\n不\\n慎\\n遺\\n失\\n或\\n損\\n壞\\n，\\n即\\n可\\n以\\n另\\n一\\n把\\n開\\n啟。\\n若\\n您\\n不\\n慎\\n將\\n鑰\\n匙、\\n手\\n機\\n鎖\\n在\\n座\\n墊\\n下\\n置\\n物\\n箱\\n內\\n，\\n或\\n鑰\\n匙\\n不\\n慎\\n遺\\n失\\n或\\n損\\n壞\\n，\\n且\\n無\\n法\\n取\\n得\\n另\\n一\\n把\\n鑰\\n匙\\n，\\n請\\n連\\n絡\\nG o g o r o\\n客\\n服\\n中\\n心\\n拖\\n吊\\n至\\n就\\n近\\n之\\n服\\n務\\n中\\n心\\n，\\n由\\nG o g o r o\\n授\\n權\\n之\\n技\\n術\\n人\\n員\\n為\\n您\\n處\\n理。\\n3 2', metadata={'source': '/Users/rich/Desktop/gen-ai-hackton/data/6nrhqkvp47vz7hnrzyl7oy7pjdmv.pdf', 'page': 31}), -24.01674813968557), (Document(page_content='1.3.2\\n開\\n關\\n機\\n鑰\\n匙\\nS m a r t s c o o t e r ®\\n智\\n慧\\n電\\n動\\n機\\n車\\n可\\n以\\n分\\n為\\n「機\\n械\\n式\\n鑰\\n匙\\n車\\n種」\\n及\\n「無\\n線\\n鑰\\n匙\\n車\\n種」\\n二\\n大\\n類。\\n依\\n車\\n種\\n不\\n同\\n，\\n您\\n的\\nS m a r t s c o o t e r ®\\n智\\n慧\\n電\\n動\\n機\\n車\\n會\\n配\\n備\\n不\\n同\\n型\\n式\\n的\\n「鑰\\n匙」\\n，\\n以\\n便\\n開\\n機\\n解\\n鎖、\\n關\\n機\\n上\\n鎖\\n及\\n開\\n啟\\n座\\n墊\\n下\\n置\\n物\\n箱。\\n具\\n有\\n「鑰\\n匙」\\n功\\n能\\n的\\n設\\n備\\n，\\n除\\n了\\n傳\\n統\\n認\\n知\\n的\\n機\\n械\\n式\\n鑰\\n匙\\n之\\n外\\n，\\n尚\\n包\\n含\\n「\\ni Q\\nS y s t e m ®\\n無\\n線\\n智\\n慧\\n鑰\\n匙」、\\n「\\ni Q\\nS y s t e m ®\\n智\\n慧\\n鑰\\n匙\\n卡」\\n以\\n及\\n「智\\n慧\\n型\\n手\\n機\\n搭\\n配\\nG o g o r o ®\\nA p p\\n」\\n等\\n更\\n先\\n進、\\n防\\n盜\\n性\\n更\\n佳\\n且\\n更\\n便\\n利\\n的\\n方\\n式。\\n機\\n械\\n式\\n鑰\\n匙\\n車\\n種\\n●\\n僅\\n可\\n使\\n用\\n傳\\n統\\n的\\n機\\n械\\n式\\n鑰\\n匙\\n，\\n無\\n法\\n使\\n用\\n無\\n線、\\n非\\n接\\n觸\\n式\\n的\\n開、\\n關\\n機\\n方\\n式。\\n無\\n線\\n鑰\\n匙\\n車\\n種\\n●\\n可\\n以\\n使\\n用\\n包\\n括\\ni Q\\nS y s t e m ®\\n無\\n線\\n智\\n慧\\n鑰\\n匙\\n（圓\\n形\\n按\\n鍵\\n遙\\n控\\n器）、\\ni Q\\nS y s t e m ®\\n智\\n慧\\n鑰\\n匙\\n卡\\n（卡\\n片\\n式）、\\nS m a r t\\nC o i n\\n（磁\\n扣\\n式）、\\nG o g o r o ®\\nA p p\\n、\\nA p p l e\\n錢\\n包\\n機\\n車\\n鑰\\n匙\\n等\\n非\\n接\\n觸\\n式\\n的\\n開、\\n關\\n機\\n方\\n式。\\n（依\\n車\\n種\\n年\\n式\\n可\\n能\\n略\\n有\\n差\\n異）\\nG o g o r o\\nS 1\\n/\\n1\\n/\\nS 2\\n/\\n2\\n系\\n列\\n自\\n2 0 2 0\\n年\\n式\\n起\\n開\\n始\\n支\\n援\\ni Q\\nS y s t e m ®\\n智\\n慧\\n鑰\\n匙\\n卡\\n（卡\\n片\\n式）\\n及 \\nS m a r t\\nC o i n\\n（磁\\n扣\\n式）。\\n所\\n有\\n無\\n線\\n鑰\\n匙\\n車\\n種\\n不\\n分\\n年\\n式\\n，\\n均\\n可\\n使\\n用\\ni Q\\nS y s t e m ®\\n無\\n線\\n智\\n慧\\n鑰\\n匙\\n（圓\\n形\\n按\\n鍵\\n式）。\\nA p p l e\\n錢\\n包\\n機\\n車\\n鑰\\n匙\\n適\\n用\\n車\\n款\\n：\\n支\\n援\\n2 0 1 9\\n年\\n後\\n生\\n產、\\n且\\n可\\n以\\ni Q\\nS y s t e m ®\\n智\\n慧\\n鑰\\n匙\\n卡\\n解\\n鎖\\n功\\n能\\n車\\n系\\n（\\nG o g o r o\\n1 ,\\nG o g o r o\\nS 1\\n&\\nG o g o r o\\nV I V A\\n除\\n外）。\\n機\\n械\\n式\\n鑰\\n匙\\n車\\n種\\n雖\\n然\\n不\\n支\\n援\\n用\\nG o g o r o ®\\nA p p\\n進\\n行\\n開、\\n關\\n機\\n及\\n開\\n啟\\n座\\n墊\\n，\\n但\\n仍\\n可\\n使\\n用\\nG o g o r o ® \\nA p p\\n的\\n其\\n他\\n便\\n利\\n功\\n能\\n，\\n享\\n有\\n與\\n時\\n俱\\n進\\n的\\n智\\n慧\\n服\\n務。\\n每\\n台\\nS m a r t s c o o t e r ®\\n智\\n慧\\n電\\n動\\n機\\n車\\n均\\n配\\n有\\n二\\n把\\n「鑰\\n匙」\\n（可\\n能\\n是\\n遙\\n控\\n器、\\n卡\\n片\\n或\\n機\\n械\\n式\\n鑰\\n題）\\n，\\n請\\n將\\n不\\n常\\n用\\n的\\n另\\n一\\n把\\n放\\n置\\n於\\n您\\n可\\n以\\n取\\n得\\n的\\n地\\n方。\\n若\\n您\\n不\\n慎\\n將\\n鑰\\n匙、\\n手\\n機\\n鎖\\n在\\n座\\n墊\\n下\\n置\\n物\\n箱\\n內\\n，\\n或\\n鑰\\n匙\\n不\\n慎\\n遺\\n失\\n或\\n損\\n壞\\n，\\n即\\n可\\n以\\n另\\n一\\n把\\n開\\n啟。\\n若\\n您\\n不\\n慎\\n將\\n鑰\\n匙、\\n手\\n機\\n鎖\\n在\\n座\\n墊\\n下\\n置\\n物\\n箱\\n內\\n，\\n或\\n鑰\\n匙\\n不\\n慎\\n遺\\n失\\n或\\n損\\n壞\\n，\\n且\\n無\\n法\\n取\\n得\\n另\\n一\\n把\\n鑰\\n匙\\n，\\n請\\n連\\n絡\\nG o g o r o\\n客\\n服\\n中\\n心\\n拖\\n吊\\n至\\n就\\n近\\n之\\n服\\n務\\n中\\n心\\n，\\n由\\nG o g o r o\\n授\\n權\\n之\\n技\\n術\\n人\\n員\\n為\\n您\\n處\\n理。\\n若\\n您\\n的\\nS m a r t s c o o t e r ®\\n智\\n慧\\n電\\n動\\n機\\n車\\n出\\n廠\\n標\\n配\\n為\\ni Q\\nS y s t e m ®\\n智\\n慧\\n鑰\\n匙\\n卡\\n（卡\\n片\\n式）\\n，\\n您\\n也\\n可\\n加\\n購 \\ni Q\\nS y s t e m ®\\n無\\n線\\n智\\n慧\\n鑰\\n匙\\n（圓\\n形\\n按\\n鍵\\n式）。\\n請\\n洽\\nG o g o r o\\n服\\n務\\n中\\n心。\\n9', metadata={'source': '/Users/rich/Desktop/gen-ai-hackton/data/6nrhqkvp47vz7hnrzyl7oy7pjdmv.pdf', 'page': 8}), -24.846281737727413), (Document(page_content='1.4\\nGogoro\\nNetwork®\\n智\\n慧\\n電\\n池\\n簡\\n介\\nG o g o r o\\nN e t w o r k ®\\n智\\n慧\\n電\\n池\\n是\\nS m a r t s c o o t e r ®\\n智\\n慧\\n電\\n動\\n機\\n車\\n的\\n動\\n力\\n來\\n源\\n，\\n也\\n是\\ni Q\\nS y s t e m ®\\n智\\n慧\\n系\\n統\\n的\\n重\\n要\\n組\\n成。\\n它\\n具\\n有\\n以\\n下\\n特\\n色\\n：\\n●\\n超\\n高\\n功\\n率\\n密\\n度\\n：\\n單\\n顆\\n重\\n量\\n大\\n約\\n僅\\n9\\n公\\n斤\\n，\\n卻\\n能\\n提\\n供\\n4\\nk W\\n以\\n上\\n的\\n功\\n率\\n，\\n2\\n顆\\n則\\n能\\n能\\n達\\n到\\n8\\nk W\\n以\\n上\\n，\\n充\\n分\\n發\\n揮\\nS m a r t s c o o t e r ®\\n智\\n慧\\n電\\n動\\n機\\n車\\n的\\n動\\n力\\n性\\n能。\\n●\\n多\\n重\\n安\\n全\\n防\\n護\\n：\\n先\\n進\\n的\\nB M S\\n電\\n池\\n管\\n理\\n及\\n系\\n統\\n堅\\n固\\n的\\n物\\n理\\n防\\n護\\n，\\n讓\\n它\\n在\\n儲\\n存\\n強\\n大\\n能\\n量\\n的\\n同\\n時\\n卻\\n又\\n非\\n常\\n安\\n全。\\n●\\n智\\n慧\\n資\\n料\\n保\\n全\\n：\\n能\\n夠\\n記\\n錄\\n行\\n車\\n資\\n料、\\n充\\n放\\n電\\n狀\\n況、\\n系\\n統\\n健\\n康\\n狀\\n態\\n等\\n，\\n透\\n過\\nG o S t a t i o n ®\\n電\\n池\\n交\\n換\\n站\\n回\\n傳\\n至\\n雲\\n端\\n主\\n機\\n，\\n便\\n於\\n進\\n行\\n車\\n況\\n檢\\n查\\n和\\n維\\n護。\\n充\\n電\\n和\\n放\\n電\\n也\\n需\\n經\\n嚴\\n密\\n的\\n認\\n証\\n，\\n防\\n止\\n車\\n子\\n與\\n電\\n池\\n的\\n竊\\n盜\\n，\\n更\\n不\\n會\\n有\\n仿\\n冒\\n山\\n寨\\n電\\n池\\n的\\n問\\n題。\\n對\\n於\\nS m a r t s c o o t e r ®\\n智\\n慧\\n電\\n動\\n機\\n車\\n的\\n車\\n主\\n來\\n說\\n，\\n只\\n要\\n在\\n需\\n要\\n補\\n充\\n電\\n力\\n時\\n，\\n就\\n近\\n至\\nG o S t a t i o n ®\\n電\\n池\\n交\\n換\\n站\\n交\\n換\\n電\\n池\\n，\\n只\\n需\\n短\\n短\\n數\\n秒\\n，\\n即\\n換\\n即\\n行\\n，\\n比\\n傳\\n統\\n機\\n車\\n加\\n油\\n的\\n速\\n度\\n還\\n快。\\n同\\n時\\n，\\n每\\n當\\n有\\ni Q\\nS y s t e m ®\\n版\\n本\\n更\\n新\\n時\\n，\\n也\\n能\\n利\\n用\\n交\\n換\\n的\\n電\\n池\\n，\\n將\\n新\\n程\\n式\\n傳\\n送\\n到\\n車\\n上\\n，\\n讓\\n您\\n的\\nS m a r t s c o o t e r ®\\n智\\n慧\\n電\\n動\\n機\\n車\\n時\\n時\\n保\\n有\\n最\\n新\\n功\\n能\\n，\\n愈\\n騎\\n愈\\n新。\\nG o g o r o\\nN e t w o r k ®\\n智\\n慧\\n電\\n池\\n具\\n有\\n極\\n高\\n的\\n電\\n能\\n，\\n不\\n當\\n的\\n操\\n作\\n有\\n可\\n能\\n引\\n起\\n火\\n災\\n或\\n電\\n擊\\n等\\n危\\n險。\\n為\\n了\\n保\\n障\\n人\\n員\\n安\\n全\\n，\\n使\\n用、\\n保\\n存\\n或\\n更\\n換\\n電\\n池\\n時\\n，\\n應\\n隨\\n時\\n遵\\n守\\nG o g o r o\\nN e t w o r k ®\\n官\\n方\\n指\\n示\\n，\\n在\\n使\\n用\\n電\\n池\\n時\\n請\\n特\\n別\\n注\\n意\\n以\\n下\\n事\\n項\\n：\\n●\\n嚴\\n禁\\n將\\n電\\n池\\n使\\n用\\n於\\n非\\nG o g o r o\\nN e t w o r k ®\\n官\\n方\\n所\\n認\\n可\\n之\\n用\\n途。\\n●\\n電\\n池\\n每\\n顆\\n重\\n量\\n在\\n9\\nk g\\n以\\n上\\n，\\n請\\n小\\n心\\n拿\\n取\\n及\\n放\\n置。\\n●\\n電\\n池\\n在\\n使\\n用\\n後\\n可\\n能\\n會\\n有\\n些\\n微\\n發\\n熱\\n狀\\n況\\n，\\n更\\n換\\n電\\n池\\n操\\n作\\n時\\n請\\n加\\n以\\n注\\n意。\\n●\\n請\\n保\\n持\\n全\\n向\\n電\\n池\\n連\\n接\\n埠\\n潔\\n淨\\n無\\n異\\n物\\n，\\n嚴\\n禁\\n使\\n用\\n金\\n屬\\n物\\n接\\n觸\\n或\\n短\\n路\\n全\\n向\\n電\\n池\\n連\\n接\\n埠。\\n●\\n嚴\\n禁\\n將\\n電\\n池\\n投\\n入\\n火\\n中、\\n加\\n熱、\\n浸\\n水、\\n摔\\n落\\n或\\n敲\\n擊\\n，\\n及\\n任\\n何\\n試\\n圖\\n拆\\n解\\n或\\n破\\n壞\\n之\\n行\\n為。\\n●\\n嚴\\n禁\\n自\\n行\\n拆\\n卸\\n或\\n改\\n變\\n電\\n池\\n外\\n型、\\n結\\n構。\\n●\\n嚴\\n禁\\n使\\n用\\n非\\nG o g o r o\\n官\\n方\\n所\\n認\\n可\\n之\\n方\\n式\\n，\\n自\\n行\\n對\\n電\\n池\\n充\\n放\\n電。\\n●\\n嚴\\n禁\\n使\\n用\\n任\\n何\\n溶\\n劑\\n或\\n化\\n學\\n藥\\n劑\\n於\\n電\\n池。\\n●\\n電\\n池\\n若\\n有\\n任\\n何\\n異\\n常\\n（如\\n漏\\n液、\\n損\\n毀、\\n變\\n形\\n等）\\n，\\n請\\n立\\n即\\n停\\n止\\n使\\n用\\n電\\n池、\\nS m a r t s c o o t e r ®\\n智\\n慧\\n電\\n動\\n機\\n車\\n，\\n將\\nS m a r t s c o o t e r ®\\n智\\n慧\\n電\\n動\\n機\\n車\\n馬\\n達\\n關\\n閉\\n及\\n關\\n閉\\n系\\n統\\n電\\n源\\n，\\n並\\n聯\\n絡\\nG o g o r o \\n0 8 0 0\\n客\\n服\\n中\\n心\\n（\\n0 8 0 0 - 3 6 5 - 9 9 6\\n）\\n協\\n助\\n處\\n理。\\n1 7', metadata={'source': '/Users/rich/Desktop/gen-ai-hackton/data/6nrhqkvp47vz7hnrzyl7oy7pjdmv.pdf', 'page': 16}), -24.851811404252043), (Document(page_content='目\\n錄\\n1.\\n在\\n您\\n上\\n路\\n之\\n前\\n2\\n1 . 1\\n如\\n何\\n使\\n用\\n本\\n手\\n冊\\n3\\n1 . 2\\n安\\n全\\n提\\n醒\\n3\\n1 . 2 . 1\\n每\\n次\\n騎\\n乘\\n前\\n應\\n檢\\n查\\n項\\n目\\n4\\n1 . 3\\nG o g o r o\\nS m a r t s c o o t e r ®\\n簡\\n介\\n5\\n1 . 3 . 1\\n操\\n作\\n流\\n程\\n概\\n述\\n6\\n1 . 3 . 2\\n開\\n關\\n機\\n鑰\\n匙\\n6\\n1 . 3 . 2 . 1\\n機\\n械\\n式\\n鑰\\n匙\\n7\\n1 . 3 . 2 . 2\\ni Q\\nS y s t e m ®\\n無\\n線\\n智\\n慧\\n鑰\\n匙\\n8\\n1 . 3 . 2 . 3\\ni Q\\nS y s t e m ®\\n智\\n慧\\n鑰\\n匙\\n卡\\n9\\n1 . 3 . 2 . 4\\nG o g o r o\\nS m a r t\\nC o i n\\n1 1\\n1 . 3 . 2 . 5\\n以\\n手\\n機\\n作\\n為\\n鑰\\n匙\\n1 2\\n1 . 3 . 3\\n啟\\n動\\n及\\n關\\n閉\\n馬\\n達\\n1 4\\n1 . 3 . 3 . 1\\n啟\\n動\\n馬\\n達\\n1 4\\n1 . 3 . 3 . 2\\n關\\n閉\\n馬\\n達\\n1 4\\n1 . 4\\nG o g o r o\\nN e t w o r k ®\\n智\\n慧\\n電\\n池\\n簡\\n介\\n1 4\\n1 . 5\\nG o S t a t i o n ®\\n電\\n池\\n交\\n換\\n站\\n簡\\n介\\n1 6\\n1 . 6\\nG o g o r o ®\\nA p p\\n簡\\n介\\n1 7\\n1 . 7\\ni Q\\nS y s t e m ®\\n簡\\n介\\n1 8\\n2.\\n認\\n識\\n您\\n的\\nSmartscooter®\\n智\\n慧\\n電\\n動\\n機\\n車\\n19\\n2 . 1\\nG o g o r o\\nS 2\\n/\\n2\\n系\\n列\\n各\\n部\\n位\\n名\\n稱\\n2 0\\n2 . 2\\n左\\n把\\n手\\n2 1\\n2 . 3\\n右\\n把\\n手\\n2 2\\n2 . 4\\n儀\\n表\\n板\\n2 4\\n3.\\n準\\n備\\n上\\n路\\n27\\n3 . 1\\n機\\n械\\n式\\n鑰\\n匙\\n車\\n種\\n2 7\\n3 . 1 . 1\\n開\\n啟\\n系\\n統\\n電\\n源\\n並\\n解\\n鎖\\n龍\\n頭\\n1\\n3 . 1 . 2\\n關\\n閉\\n系\\n統\\n電\\n源\\n並\\n上\\n鎖\\n龍\\n頭\\n2 8\\n3 . 1 . 3\\n雙\\n重\\n防\\n盜\\n鎖\\n2 8\\n3 . 1 . 4\\n開\\n啟\\n座\\n墊\\n下\\n置\\n物\\n箱\\n2 9\\n3 . 1 . 5\\n休\\n眠\\n模\\n式\\n3 0\\n3 . 2\\n無\\n線\\n鑰\\n匙\\n車\\n種\\n3 1\\n3 . 2 . 1\\ni Q\\nS y s t e m ®\\n無\\n線\\n智\\n慧\\n鑰\\n匙\\n3 2\\n3 . 2 . 1 . 1\\n開\\n啟\\n系\\n統\\n電\\n源\\n並\\n解\\n鎖\\n龍\\n頭\\n3 3\\n3 . 2 . 1 . 2\\n關\\n閉\\n系\\n統\\n電\\n源\\n及\\n上\\n鎖\\n龍\\n頭\\n3 3\\n3 . 2 . 1 . 3\\n開\\n啟\\n座\\n墊\\n下\\n置\\n物\\n箱\\n3 3\\n3 . 2 . 2\\ni Q\\nS y s t e m ®\\n智\\n慧\\n鑰\\n匙\\n卡\\n3 3\\n3 . 2 . 2 . 1\\ni Q\\nS y s t e m ®\\n智\\n慧\\n鑰\\n匙\\n卡\\n感\\n應\\n器\\n位\\n置\\n3 4\\n3 . 2 . 2 . 2\\n開\\n啟\\n系\\n統\\n電\\n源\\n並\\n解\\n鎖\\n龍\\n頭\\n3 5\\n3 . 2 . 2 . 3\\n關\\n閉\\n系\\n統\\n電\\n源\\n及\\n上\\n鎖\\n龍\\n頭\\n3 6\\n3 . 2 . 2 . 4\\n開\\n啟\\n座\\n墊\\n下\\n置\\n物\\n箱\\n3 6\\n3 . 2 . 3\\nG o g o r o\\nS m a r t\\nC o i n\\n3 6\\n3 . 2 . 4\\nA p p l e\\n錢\\n包\\n機\\n車\\n鑰\\n匙\\n3 6\\n3 . 2 . 5\\n手\\n機\\n做\\n為\\n遙\\n控\\n器\\n時\\n3 8\\n3 . 2 . 5 . 1\\n開\\n啟\\n系\\n統\\n電\\n源\\n並\\n解\\n鎖\\n龍\\n頭\\n3 9\\n3 . 2 . 5 . 2\\n關\\n閉\\n系\\n統\\n電\\n源\\n及\\n上\\n鎖\\n龍\\n頭\\n3 9\\n3 . 2 . 5 . 3\\n雙\\n重\\n防\\n盜\\n鎖\\n3 9\\n3 . 2 . 5 . 4\\n開\\n啟\\n座\\n墊\\n下\\n置\\n物\\n箱\\n4 0\\n3 . 2 . 6\\n手\\n機\\n做\\n為\\n免\\n鑰\\n匙\\n智\\n慧\\n感\\n應\\n器\\n時\\n（智\\n慧\\n感\\n應\\n解\\n鎖）\\n4 0\\n3 . 2 . 6 . 1\\n開\\n啟\\n系\\n統\\n電\\n源\\n並\\n解\\n鎖\\n龍\\n頭\\n4 1\\n3 . 2 . 6 . 2\\n關\\n閉\\n系\\n統\\n電\\n源\\n4 1\\n2', metadata={'source': '/Users/rich/Desktop/gen-ai-hackton/data/6nrhqkvp47vz7hnrzyl7oy7pjdmv.pdf', 'page': 1}), -24.970006003167263)]\n",
      "  warnings.warn(\n",
      "/Users/rich/Desktop/gen-ai-hackton/.venv/lib/python3.11/site-packages/langchain_core/vectorstores.py:342: UserWarning: No relevant docs were retrieved using the relevance score threshold 0.6\n",
      "  warnings.warn(\n"
     ]
    },
    {
     "name": "stdout",
     "output_type": "stream",
     "text": [
      "{'input': '川普是誰', 'context': [], 'answer': '\\n系统不知道这个问题的答案。请提供更多信息或上下文，以便我们可以更好地理解和回答您的问题。\\n'}\n"
     ]
    }
   ],
   "source": [
    "threshold = 0.9\n",
    "retriever = vector_store.as_retriever(search_type=\"similarity_score_threshold\", search_kwargs={\"score_threshold\": threshold})\n",
    "\n",
    "query = \"川普是誰\"\n",
    "result = chain.invoke({\"input\": query})\n",
    "print(result)"
   ]
  },
  {
   "cell_type": "code",
   "execution_count": null,
   "metadata": {},
   "outputs": [],
   "source": []
  }
 ],
 "metadata": {
  "kernelspec": {
   "display_name": ".venv",
   "language": "python",
   "name": "python3"
  },
  "language_info": {
   "codemirror_mode": {
    "name": "ipython",
    "version": 3
   },
   "file_extension": ".py",
   "mimetype": "text/x-python",
   "name": "python",
   "nbconvert_exporter": "python",
   "pygments_lexer": "ipython3",
   "version": "3.11.9"
  }
 },
 "nbformat": 4,
 "nbformat_minor": 2
}
